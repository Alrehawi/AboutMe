{
  "nbformat": 4,
  "nbformat_minor": 0,
  "metadata": {
    "colab": {
      "name": "Copy of maha.ipynb",
      "provenance": [],
      "collapsed_sections": [],
      "authorship_tag": "ABX9TyOUsQe6s5DIVFvuB129rTHH",
      "include_colab_link": true
    },
    "kernelspec": {
      "name": "python3",
      "display_name": "Python 3"
    },
    "language_info": {
      "name": "python"
    }
  },
  "cells": [
    {
      "cell_type": "markdown",
      "metadata": {
        "id": "view-in-github",
        "colab_type": "text"
      },
      "source": [
        "<a href=\"https://colab.research.google.com/github/Alrehawi/AboutMe/blob/master/Copy_of_maha.ipynb\" target=\"_parent\"><img src=\"https://colab.research.google.com/assets/colab-badge.svg\" alt=\"Open In Colab\"/></a>"
      ]
    },
    {
      "cell_type": "code",
      "metadata": {
        "id": "4iDoVYOgMoKx"
      },
      "source": [
        "# Assignment II\n",
        "### Course : 634CIS - Big Data Analytics\n",
        " \n",
        "### Topics - Naive Bayes Classification using Pyspark\n",
        " \n",
        "#Total Marks : 3 ***  Submission Due Date: 7th April\n",
        " \n",
        "#### Course Instructor: Dr. M.Anandhi/College of Computer Science/ KKU"
      ],
      "execution_count": null,
      "outputs": []
    },
    {
      "cell_type": "code",
      "metadata": {
        "colab": {
          "base_uri": "https://localhost:8080/"
        },
        "id": "ABI9jnhgNPi-",
        "outputId": "80d130a0-8533-48db-b383-105789d9466c"
      },
      "source": [
        "!pip install pyspark"
      ],
      "execution_count": null,
      "outputs": [
        {
          "output_type": "stream",
          "text": [
            "Collecting pyspark\n",
            "\u001b[?25l  Downloading https://files.pythonhosted.org/packages/45/b0/9d6860891ab14a39d4bddf80ba26ce51c2f9dc4805e5c6978ac0472c120a/pyspark-3.1.1.tar.gz (212.3MB)\n",
            "\u001b[K     |████████████████████████████████| 212.3MB 73kB/s \n",
            "\u001b[?25hCollecting py4j==0.10.9\n",
            "\u001b[?25l  Downloading https://files.pythonhosted.org/packages/9e/b6/6a4fb90cd235dc8e265a6a2067f2a2c99f0d91787f06aca4bcf7c23f3f80/py4j-0.10.9-py2.py3-none-any.whl (198kB)\n",
            "\u001b[K     |████████████████████████████████| 204kB 34.2MB/s \n",
            "\u001b[?25hBuilding wheels for collected packages: pyspark\n",
            "  Building wheel for pyspark (setup.py) ... \u001b[?25l\u001b[?25hdone\n",
            "  Created wheel for pyspark: filename=pyspark-3.1.1-py2.py3-none-any.whl size=212767604 sha256=bde6b680afa46c5b1700e098772246aada8ea0b08aa5572d1cf2185ecb290964\n",
            "  Stored in directory: /root/.cache/pip/wheels/0b/90/c0/01de724414ef122bd05f056541fb6a0ecf47c7ca655f8b3c0f\n",
            "Successfully built pyspark\n",
            "Installing collected packages: py4j, pyspark\n",
            "Successfully installed py4j-0.10.9 pyspark-3.1.1\n"
          ],
          "name": "stdout"
        }
      ]
    },
    {
      "cell_type": "code",
      "metadata": {
        "id": "-Ta0Yyw7MtxJ"
      },
      "source": [
        "# Step 1: Install the Relevant Pyspark Packages & Context & Session\n",
        "# write your code here & Display the output\n",
        " \n",
        "from pyspark import SparkContext\n",
        "sc = SparkContext(master = 'local')"
      ],
      "execution_count": null,
      "outputs": []
    },
    {
      "cell_type": "code",
      "metadata": {
        "id": "Zv7fFU7vM_Js"
      },
      "source": [
        "from pyspark.sql import SparkSession\n",
        "spark = SparkSession.builder \\\n",
        "          .appName(\"Python Spark SQL basic example\") \\\n",
        "          .config(\"spark.some.config.option\", \"some-value\") \\\n",
        "          .getOrCreate()"
      ],
      "execution_count": null,
      "outputs": []
    },
    {
      "cell_type": "code",
      "metadata": {
        "colab": {
          "base_uri": "https://localhost:8080/",
          "height": 35
        },
        "id": "ZoPzBzxjNrdI",
        "outputId": "1eaa8081-efa2-439c-e2d7-2dd789b069aa"
      },
      "source": [
        "import os\n",
        "os.getcwd()\n"
      ],
      "execution_count": null,
      "outputs": [
        {
          "output_type": "execute_result",
          "data": {
            "application/vnd.google.colaboratory.intrinsic+json": {
              "type": "string"
            },
            "text/plain": [
              "'/content'"
            ]
          },
          "metadata": {
            "tags": []
          },
          "execution_count": 8
        }
      ]
    },
    {
      "cell_type": "code",
      "metadata": {
        "colab": {
          "base_uri": "https://localhost:8080/"
        },
        "id": "O93oOZyUNvtv",
        "outputId": "76c15a13-a37d-46e2-a87d-cbad4df2d7b9"
      },
      "source": [
        "os.listdir()"
      ],
      "execution_count": null,
      "outputs": [
        {
          "output_type": "execute_result",
          "data": {
            "text/plain": [
              "['.config', 'iris.csv', 'sample_data']"
            ]
          },
          "metadata": {
            "tags": []
          },
          "execution_count": 9
        }
      ]
    },
    {
      "cell_type": "code",
      "metadata": {
        "id": "h9zhmVqLNy6B"
      },
      "source": [
        "import numpy as np\n",
        "import pandas as pd\n",
        "#data = spark.createDataFrame(pd.read_csv('iris.data', header=None, names=['sepal-length', 'sepal-width', 'petal-length', 'petal-width', 'class']))\n",
        "data=sc.textFile('iris.csv')"
      ],
      "execution_count": null,
      "outputs": []
    },
    {
      "cell_type": "code",
      "metadata": {
        "colab": {
          "base_uri": "https://localhost:8080/"
        },
        "id": "wb5NBXfxN6X9",
        "outputId": "00663e92-1c0d-4a4d-fcc7-9e1c68b47103"
      },
      "source": [
        "type(data)"
      ],
      "execution_count": null,
      "outputs": [
        {
          "output_type": "execute_result",
          "data": {
            "text/plain": [
              "pyspark.rdd.RDD"
            ]
          },
          "metadata": {
            "tags": []
          },
          "execution_count": 21
        }
      ]
    },
    {
      "cell_type": "code",
      "metadata": {
        "colab": {
          "base_uri": "https://localhost:8080/"
        },
        "id": "PT-SyOniN9wL",
        "outputId": "0bcdb4df-c0bc-430b-ca90-2063eb0b3358"
      },
      "source": [
        "# Step 3: Display First 10 records from the Data file \n",
        "# write your code here & Display the output\n",
        "data.top(10)"
      ],
      "execution_count": null,
      "outputs": [
        {
          "output_type": "execute_result",
          "data": {
            "text/plain": [
              "['Sepal.Length,Sepal.Width,Petal.Length,Petal.Width,Species',\n",
              " '7.9,3.8,6.4,2,Iris-virginica',\n",
              " '7.7,3.8,6.7,2.2,Iris-virginica',\n",
              " '7.7,3,6.1,2.3,Iris-virginica',\n",
              " '7.7,2.8,6.7,2,Iris-virginica',\n",
              " '7.7,2.6,6.9,2.3,Iris-virginica',\n",
              " '7.6,3,6.6,2.1,Iris-virginica',\n",
              " '7.4,2.8,6.1,1.9,Iris-virginica',\n",
              " '7.3,2.9,6.3,1.8,Iris-virginica',\n",
              " '7.2,3.6,6.1,2.5,Iris-virginica']"
            ]
          },
          "metadata": {
            "tags": []
          },
          "execution_count": 45
        }
      ]
    },
    {
      "cell_type": "code",
      "metadata": {
        "colab": {
          "base_uri": "https://localhost:8080/",
          "height": 35
        },
        "id": "TQxPoZqhOClm",
        "outputId": "57d7c6f6-0e18-4d85-d2fe-c875b27a0980"
      },
      "source": [
        "data.first()"
      ],
      "execution_count": null,
      "outputs": [
        {
          "output_type": "execute_result",
          "data": {
            "application/vnd.google.colaboratory.intrinsic+json": {
              "type": "string"
            },
            "text/plain": [
              "'Sepal.Length,Sepal.Width,Petal.Length,Petal.Width,Species'"
            ]
          },
          "metadata": {
            "tags": []
          },
          "execution_count": 23
        }
      ]
    },
    {
      "cell_type": "code",
      "metadata": {
        "id": "tHAB5Z4WOVtJ"
      },
      "source": [
        "from pyspark.sql import SparkSession"
      ],
      "execution_count": null,
      "outputs": []
    },
    {
      "cell_type": "code",
      "metadata": {
        "id": "HJDX_GNVOnqC"
      },
      "source": [
        "spark= SparkSession.builder \\\n",
        "    .master(\"local\") \\\n",
        "    .appName(\"Data Exploration\") \\\n",
        "    .getOrCreate()"
      ],
      "execution_count": null,
      "outputs": []
    },
    {
      "cell_type": "code",
      "metadata": {
        "id": "NcRcsTDlOpxY"
      },
      "source": [
        "#load data as Spark DataFrame\n",
        "data2=spark.read.format(\"csv\") \\\n",
        "    .option(\"header\",\"true\") \\\n",
        "    .option(\"mode\",\"DROPMALFORMED\") \\\n",
        "    .load('iris.csv')"
      ],
      "execution_count": null,
      "outputs": []
    },
    {
      "cell_type": "code",
      "metadata": {
        "colab": {
          "base_uri": "https://localhost:8080/"
        },
        "id": "nCgE0lUeZ0dr",
        "outputId": "e5202743-5160-4f13-fda3-c1187971a7c8"
      },
      "source": [
        "data2.describe()"
      ],
      "execution_count": null,
      "outputs": [
        {
          "output_type": "execute_result",
          "data": {
            "text/plain": [
              "DataFrame[summary: string, Sepal_Length: string, Sepal_Width: string, Petal_Length: string, Petal_Width: string, Species: string]"
            ]
          },
          "metadata": {
            "tags": []
          },
          "execution_count": 47
        }
      ]
    },
    {
      "cell_type": "code",
      "metadata": {
        "colab": {
          "base_uri": "https://localhost:8080/"
        },
        "id": "cR1Ie4FaZ_mC",
        "outputId": "6829bc3d-575e-44d8-dafc-89ca78133d79"
      },
      "source": [
        "data2.show()"
      ],
      "execution_count": null,
      "outputs": [
        {
          "output_type": "stream",
          "text": [
            "+------------+-----------+------------+-----------+-----------+\n",
            "|Sepal_Length|Sepal_Width|Petal_Length|Petal_Width|    Species|\n",
            "+------------+-----------+------------+-----------+-----------+\n",
            "|         5.1|        3.5|         1.4|        0.2|Iris-setosa|\n",
            "|         4.9|          3|         1.4|        0.2|Iris-setosa|\n",
            "|         4.7|        3.2|         1.3|        0.2|Iris-setosa|\n",
            "|         4.6|        3.1|         1.5|        0.2|Iris-setosa|\n",
            "|           5|        3.6|         1.4|        0.2|Iris-setosa|\n",
            "|         5.4|        3.9|         1.7|        0.4|Iris-setosa|\n",
            "|         4.6|        3.4|         1.4|        0.3|Iris-setosa|\n",
            "|           5|        3.4|         1.5|        0.2|Iris-setosa|\n",
            "|         4.4|        2.9|         1.4|        0.2|Iris-setosa|\n",
            "|         4.9|        3.1|         1.5|        0.1|Iris-setosa|\n",
            "|         5.4|        3.7|         1.5|        0.2|Iris-setosa|\n",
            "|         4.8|        3.4|         1.6|        0.2|Iris-setosa|\n",
            "|         4.8|          3|         1.4|        0.1|Iris-setosa|\n",
            "|         4.3|          3|         1.1|        0.1|Iris-setosa|\n",
            "|         5.8|          4|         1.2|        0.2|Iris-setosa|\n",
            "|         5.7|        4.4|         1.5|        0.4|Iris-setosa|\n",
            "|         5.4|        3.9|         1.3|        0.4|Iris-setosa|\n",
            "|         5.1|        3.5|         1.4|        0.3|Iris-setosa|\n",
            "|         5.7|        3.8|         1.7|        0.3|Iris-setosa|\n",
            "|         5.1|        3.8|         1.5|        0.3|Iris-setosa|\n",
            "+------------+-----------+------------+-----------+-----------+\n",
            "only showing top 20 rows\n",
            "\n"
          ],
          "name": "stdout"
        }
      ]
    },
    {
      "cell_type": "code",
      "metadata": {
        "colab": {
          "base_uri": "https://localhost:8080/"
        },
        "id": "_VIuAGxZO846",
        "outputId": "b6fb4127-4da2-4de8-dad4-0224b637f40e"
      },
      "source": [
        "type(data2)"
      ],
      "execution_count": null,
      "outputs": [
        {
          "output_type": "execute_result",
          "data": {
            "text/plain": [
              "pyspark.sql.dataframe.DataFrame"
            ]
          },
          "metadata": {
            "tags": []
          },
          "execution_count": 27
        }
      ]
    },
    {
      "cell_type": "code",
      "metadata": {
        "colab": {
          "base_uri": "https://localhost:8080/"
        },
        "id": "AVdbnU8pPCO2",
        "outputId": "1fa791c4-1055-4159-ac7c-b8d920639854"
      },
      "source": [
        "data2.printSchema()"
      ],
      "execution_count": null,
      "outputs": [
        {
          "output_type": "stream",
          "text": [
            "root\n",
            " |-- Sepal.Length: string (nullable = true)\n",
            " |-- Sepal.Width: string (nullable = true)\n",
            " |-- Petal.Length: string (nullable = true)\n",
            " |-- Petal.Width: string (nullable = true)\n",
            " |-- Species: string (nullable = true)\n",
            "\n"
          ],
          "name": "stdout"
        }
      ]
    },
    {
      "cell_type": "code",
      "metadata": {
        "colab": {
          "base_uri": "https://localhost:8080/"
        },
        "id": "oEJKH0BSgSaj",
        "outputId": "becd1462-b26a-47da-88bc-1c6ad041014c"
      },
      "source": [
        "data2.head()"
      ],
      "execution_count": null,
      "outputs": [
        {
          "output_type": "execute_result",
          "data": {
            "text/plain": [
              "Row(Sepal_Length='5.1', Sepal_Width='3.5', Petal_Length='1.4', Petal_Width='0.2', Species='Iris-setosa')"
            ]
          },
          "metadata": {
            "tags": []
          },
          "execution_count": 52
        }
      ]
    },
    {
      "cell_type": "code",
      "metadata": {
        "colab": {
          "base_uri": "https://localhost:8080/"
        },
        "id": "3EoUhFeARs8b",
        "outputId": "3c27289e-0d44-4fff-d706-c2a62c07b578"
      },
      "source": [
        "data2.columns"
      ],
      "execution_count": null,
      "outputs": [
        {
          "output_type": "execute_result",
          "data": {
            "text/plain": [
              "['Sepal.Length', 'Sepal.Width', 'Petal.Length', 'Petal.Width', 'Species']"
            ]
          },
          "metadata": {
            "tags": []
          },
          "execution_count": 31
        }
      ]
    },
    {
      "cell_type": "code",
      "metadata": {
        "id": "p_MiBhdfRy-0"
      },
      "source": [
        "data2.schema.names\n",
        "oldColumns=data2.schema.names"
      ],
      "execution_count": null,
      "outputs": []
    },
    {
      "cell_type": "code",
      "metadata": {
        "id": "GR3dYo8zR3If"
      },
      "source": [
        "newColumns=['Sepal_Length', 'Sepal_Width', 'Petal_Length', 'Petal_Width', 'Species']"
      ],
      "execution_count": null,
      "outputs": []
    },
    {
      "cell_type": "code",
      "metadata": {
        "id": "nWNTXv4zPHqk"
      },
      "source": [
        "from functools import reduce"
      ],
      "execution_count": null,
      "outputs": []
    },
    {
      "cell_type": "code",
      "metadata": {
        "colab": {
          "base_uri": "https://localhost:8080/"
        },
        "id": "tyWcnjM0RZYS",
        "outputId": "d187bf13-b496-4ffc-aac1-995e3bd8fbc0"
      },
      "source": [
        "data2 = reduce(lambda data2, idx: data2.withColumnRenamed(oldColumns[idx], newColumns[idx]), range(len(oldColumns)), data2)\n",
        "data2.printSchema()\n",
        "data2.show()"
      ],
      "execution_count": null,
      "outputs": [
        {
          "output_type": "stream",
          "text": [
            "root\n",
            " |-- Sepal_Length: string (nullable = true)\n",
            " |-- Sepal_Width: string (nullable = true)\n",
            " |-- Petal_Length: string (nullable = true)\n",
            " |-- Petal_Width: string (nullable = true)\n",
            " |-- Species: string (nullable = true)\n",
            "\n",
            "+------------+-----------+------------+-----------+-----------+\n",
            "|Sepal_Length|Sepal_Width|Petal_Length|Petal_Width|    Species|\n",
            "+------------+-----------+------------+-----------+-----------+\n",
            "|         5.1|        3.5|         1.4|        0.2|Iris-setosa|\n",
            "|         4.9|          3|         1.4|        0.2|Iris-setosa|\n",
            "|         4.7|        3.2|         1.3|        0.2|Iris-setosa|\n",
            "|         4.6|        3.1|         1.5|        0.2|Iris-setosa|\n",
            "|           5|        3.6|         1.4|        0.2|Iris-setosa|\n",
            "|         5.4|        3.9|         1.7|        0.4|Iris-setosa|\n",
            "|         4.6|        3.4|         1.4|        0.3|Iris-setosa|\n",
            "|           5|        3.4|         1.5|        0.2|Iris-setosa|\n",
            "|         4.4|        2.9|         1.4|        0.2|Iris-setosa|\n",
            "|         4.9|        3.1|         1.5|        0.1|Iris-setosa|\n",
            "|         5.4|        3.7|         1.5|        0.2|Iris-setosa|\n",
            "|         4.8|        3.4|         1.6|        0.2|Iris-setosa|\n",
            "|         4.8|          3|         1.4|        0.1|Iris-setosa|\n",
            "|         4.3|          3|         1.1|        0.1|Iris-setosa|\n",
            "|         5.8|          4|         1.2|        0.2|Iris-setosa|\n",
            "|         5.7|        4.4|         1.5|        0.4|Iris-setosa|\n",
            "|         5.4|        3.9|         1.3|        0.4|Iris-setosa|\n",
            "|         5.1|        3.5|         1.4|        0.3|Iris-setosa|\n",
            "|         5.7|        3.8|         1.7|        0.3|Iris-setosa|\n",
            "|         5.1|        3.8|         1.5|        0.3|Iris-setosa|\n",
            "+------------+-----------+------------+-----------+-----------+\n",
            "only showing top 20 rows\n",
            "\n"
          ],
          "name": "stdout"
        }
      ]
    },
    {
      "cell_type": "code",
      "metadata": {
        "colab": {
          "base_uri": "https://localhost:8080/"
        },
        "id": "tITNs8m2RcDJ",
        "outputId": "d5feb813-0eb7-4908-998d-bd9e7c01c19c"
      },
      "source": [
        "data2.dtypes"
      ],
      "execution_count": null,
      "outputs": [
        {
          "output_type": "execute_result",
          "data": {
            "text/plain": [
              "[('Sepal_Length', 'string'),\n",
              " ('Sepal_Width', 'string'),\n",
              " ('Petal_Length', 'string'),\n",
              " ('Petal_Width', 'string'),\n",
              " ('Species', 'string')]"
            ]
          },
          "metadata": {
            "tags": []
          },
          "execution_count": 40
        }
      ]
    },
    {
      "cell_type": "code",
      "metadata": {
        "colab": {
          "base_uri": "https://localhost:8080/"
        },
        "id": "528WYlgTScC1",
        "outputId": "681eab6c-d6a4-4785-b744-bde27cc44722"
      },
      "source": [
        "data3 = data2.select('Sepal_Length', 'Sepal_Width', 'Species')\n",
        "data3.cache()\n",
        "data3.count()"
      ],
      "execution_count": null,
      "outputs": [
        {
          "output_type": "execute_result",
          "data": {
            "text/plain": [
              "150"
            ]
          },
          "metadata": {
            "tags": []
          },
          "execution_count": 41
        }
      ]
    },
    {
      "cell_type": "code",
      "metadata": {
        "colab": {
          "base_uri": "https://localhost:8080/"
        },
        "id": "kTd90PglSgrI",
        "outputId": "4fed33c8-5a29-4213-f188-b58d507013b3"
      },
      "source": [
        "data3.show()"
      ],
      "execution_count": null,
      "outputs": [
        {
          "output_type": "stream",
          "text": [
            "+------------+-----------+-----------+\n",
            "|Sepal_Length|Sepal_Width|    Species|\n",
            "+------------+-----------+-----------+\n",
            "|         5.1|        3.5|Iris-setosa|\n",
            "|         4.9|          3|Iris-setosa|\n",
            "|         4.7|        3.2|Iris-setosa|\n",
            "|         4.6|        3.1|Iris-setosa|\n",
            "|           5|        3.6|Iris-setosa|\n",
            "|         5.4|        3.9|Iris-setosa|\n",
            "|         4.6|        3.4|Iris-setosa|\n",
            "|           5|        3.4|Iris-setosa|\n",
            "|         4.4|        2.9|Iris-setosa|\n",
            "|         4.9|        3.1|Iris-setosa|\n",
            "|         5.4|        3.7|Iris-setosa|\n",
            "|         4.8|        3.4|Iris-setosa|\n",
            "|         4.8|          3|Iris-setosa|\n",
            "|         4.3|          3|Iris-setosa|\n",
            "|         5.8|          4|Iris-setosa|\n",
            "|         5.7|        4.4|Iris-setosa|\n",
            "|         5.4|        3.9|Iris-setosa|\n",
            "|         5.1|        3.5|Iris-setosa|\n",
            "|         5.7|        3.8|Iris-setosa|\n",
            "|         5.1|        3.8|Iris-setosa|\n",
            "+------------+-----------+-----------+\n",
            "only showing top 20 rows\n",
            "\n"
          ],
          "name": "stdout"
        }
      ]
    },
    {
      "cell_type": "code",
      "metadata": {
        "colab": {
          "base_uri": "https://localhost:8080/"
        },
        "id": "teXflRswSkYp",
        "outputId": "d6d9d834-9dfa-45b2-aad1-698a8972b61b"
      },
      "source": [
        "data3.limit(5)"
      ],
      "execution_count": null,
      "outputs": [
        {
          "output_type": "execute_result",
          "data": {
            "text/plain": [
              "DataFrame[Sepal_Length: string, Sepal_Width: string, Species: string]"
            ]
          },
          "metadata": {
            "tags": []
          },
          "execution_count": 43
        }
      ]
    },
    {
      "cell_type": "code",
      "metadata": {
        "colab": {
          "base_uri": "https://localhost:8080/"
        },
        "id": "QD2XuR8DSpJ0",
        "outputId": "d0092d95-f440-453c-ac03-776ff8e40e8c"
      },
      "source": [
        "data3.limit(5).limit(2).show()"
      ],
      "execution_count": null,
      "outputs": [
        {
          "output_type": "stream",
          "text": [
            "+------------+-----------+-----------+\n",
            "|Sepal_Length|Sepal_Width|    Species|\n",
            "+------------+-----------+-----------+\n",
            "|         5.1|        3.5|Iris-setosa|\n",
            "|         4.9|          3|Iris-setosa|\n",
            "+------------+-----------+-----------+\n",
            "\n"
          ],
          "name": "stdout"
        }
      ]
    },
    {
      "cell_type": "code",
      "metadata": {
        "id": "EZnHGm6iSwX9"
      },
      "source": [
        ""
      ],
      "execution_count": null,
      "outputs": []
    }
  ]
}